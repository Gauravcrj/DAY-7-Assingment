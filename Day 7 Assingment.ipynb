{
 "cells": [
  {
   "cell_type": "markdown",
   "id": "6bf9a73a",
   "metadata": {},
   "source": [
    "Create a parent class called 'person' and define with attributes like name, empid...create a child class called 'employee' with added features like designation, salary etc...create a object variable for the child class and call any of the function defined under parent class 'person'"
   ]
  },
  {
   "cell_type": "code",
   "execution_count": 11,
   "id": "5f25ecb8",
   "metadata": {},
   "outputs": [],
   "source": [
    "class person:\n",
    "    def __init__(self,name,empid):\n",
    "        \n",
    "        self.name=name\n",
    "        self.empid=empid\n",
    "class employee(parent):\n",
    "    def __init__(self,name,empid,designation,salary):\n",
    "        self.designation=designation\n",
    "        self.salary=salary\n",
    "        "
   ]
  },
  {
   "cell_type": "code",
   "execution_count": 16,
   "id": "532a963e",
   "metadata": {},
   "outputs": [],
   "source": [
    "emp1=person(\"Gaurav\",20069)\n",
    "emp1=employee(\"Gaurav\",20069,\"Executive\",3500)"
   ]
  },
  {
   "cell_type": "code",
   "execution_count": 14,
   "id": "40c680ce",
   "metadata": {},
   "outputs": [
    {
     "data": {
      "text/plain": [
       "'Gaurav'"
      ]
     },
     "execution_count": 14,
     "metadata": {},
     "output_type": "execute_result"
    }
   ],
   "source": [
    "emp1.name"
   ]
  },
  {
   "cell_type": "code",
   "execution_count": 15,
   "id": "d07d2a93",
   "metadata": {},
   "outputs": [
    {
     "data": {
      "text/plain": [
       "20069"
      ]
     },
     "execution_count": 15,
     "metadata": {},
     "output_type": "execute_result"
    }
   ],
   "source": [
    "emp1.empid"
   ]
  },
  {
   "cell_type": "code",
   "execution_count": 17,
   "id": "fc0b61d0",
   "metadata": {},
   "outputs": [
    {
     "data": {
      "text/plain": [
       "'Executive'"
      ]
     },
     "execution_count": 17,
     "metadata": {},
     "output_type": "execute_result"
    }
   ],
   "source": [
    "emp1.designation"
   ]
  },
  {
   "cell_type": "code",
   "execution_count": null,
   "id": "591d78a2",
   "metadata": {},
   "outputs": [],
   "source": [
    "emp1."
   ]
  }
 ],
 "metadata": {
  "kernelspec": {
   "display_name": "Python 3",
   "language": "python",
   "name": "python3"
  },
  "language_info": {
   "codemirror_mode": {
    "name": "ipython",
    "version": 3
   },
   "file_extension": ".py",
   "mimetype": "text/x-python",
   "name": "python",
   "nbconvert_exporter": "python",
   "pygments_lexer": "ipython3",
   "version": "3.8.8"
  }
 },
 "nbformat": 4,
 "nbformat_minor": 5
}
